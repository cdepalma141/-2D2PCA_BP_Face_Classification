{
 "cells": [
  {
   "cell_type": "code",
   "execution_count": 1,
   "metadata": {},
   "outputs": [],
   "source": [
    "import cv2\n",
    "import matplotlib.pyplot as plt\n",
    "from scipy.fftpack import dct, idct\n",
    "import os\n",
    "import numpy as np"
   ]
  },
  {
   "cell_type": "code",
   "execution_count": 2,
   "metadata": {},
   "outputs": [],
   "source": [
    "# implement 2D DCT\n",
    "def dct2(a):\n",
    "    return dct(dct(a.T, norm='ortho').T, norm='ortho')\n",
    "\n",
    "# implement 2D IDCT\n",
    "def idct2(a):\n",
    "    return idct(idct(a.T, norm='ortho').T, norm='ortho') \n",
    "\n",
    "def dct_compression(img):\n",
    "    imf = np.float32(img)\n",
    "    comp = dct2(imf)/255. # Scale to force low values to 0\n",
    "    comp = np.uint8(idct2(comp)*255)\n",
    "    return comp"
   ]
  },
  {
   "cell_type": "code",
   "execution_count": 3,
   "metadata": {},
   "outputs": [],
   "source": [
    "def cv_disp_img(img, title=\"image\"):\n",
    "    while True:\n",
    "        cv2.imshow(title, img)\n",
    "        k = cv2.waitKey(1)\n",
    "\n",
    "        if k & 0xFF == ord('q'):\n",
    "            # q key pressed so quit\n",
    "            print(\"Quitting...\")\n",
    "            break\n",
    "\n",
    "    cv2.destroyAllWindows()\n",
    "    cv2.waitKey(1)"
   ]
  },
  {
   "cell_type": "code",
   "execution_count": null,
   "metadata": {},
   "outputs": [],
   "source": [
    "# Generate Structure contiaining info on dataset\n",
    "directory = \"./Dataset/\"\n",
    "\n"
   ]
  },
  {
   "cell_type": "code",
   "execution_count": 4,
   "metadata": {},
   "outputs": [],
   "source": [
    "# Combine dataset of images into an accessible array\n",
    "# Since images are already in grayscale, can import as single channel\n",
    "num_images = len(os.listdir(\"./Dataset/\"))\n",
    "training_images = np.zeros([num_images,192,168])\n",
    "ct = 0\n",
    "for file in np.sort(os.listdir(\"./Dataset/\")):\n",
    "    if \".pgm\" in file:\n",
    "        img = cv2.imread(os.path.join(\"./Dataset\",file),0)\n",
    "        training_images[ct,:,:] = img\n",
    "        ct += 1\n",
    "training_images = np.uint8(training_images)"
   ]
  },
  {
   "cell_type": "code",
   "execution_count": 5,
   "metadata": {},
   "outputs": [],
   "source": [
    "# DCT compress all images to increase number of 0's\n",
    "dct_images = np.zeros([num_images,192,168])\n",
    "for i in range(num_images):\n",
    "    dct_images[i,:,:] = dct_compression(training_images[i])\n",
    "dct_images = np.uint8(dct_images)"
   ]
  },
  {
   "cell_type": "code",
   "execution_count": 6,
   "metadata": {},
   "outputs": [
    {
     "name": "stdout",
     "output_type": "stream",
     "text": [
      "663 1432\n"
     ]
    }
   ],
   "source": [
    "print(np.count_nonzero(training_images[456]==0),np.count_nonzero(dct_images[456]==0))"
   ]
  },
  {
   "cell_type": "code",
   "execution_count": 7,
   "metadata": {},
   "outputs": [
    {
     "name": "stdout",
     "output_type": "stream",
     "text": [
      "Quitting...\n"
     ]
    }
   ],
   "source": [
    "cv_disp_img(cv2.hconcat((training_images[456],dct_images[456])))"
   ]
  },
  {
   "cell_type": "code",
   "execution_count": null,
   "metadata": {},
   "outputs": [],
   "source": [
    "# 2DPCA\n",
    "def give_P(eig_vals,quality):\n",
    "    s = np.sum(eig_vals)\n",
    "    thresh = s * quality/100\n",
    "    t = 0\n",
    "    P = 0\n",
    "    while t < thresh:\n",
    "        t += eig_vals[P]\n",
    "        P += 1\n",
    "        \n",
    "    return P\n",
    "        \n",
    "def reduce_dim(images,mean_subtracted):\n",
    "    num = images.shape[0]\n",
    "    g_t = np.zeros((images.shape[2],images.shape[2]))\n",
    "    for i in range(num):\n",
    "        temp_gt = np.dot(mean_subtracted[i].T,mean_subtracted[i])\n",
    "        g_t += temp_gt\n",
    "    \n",
    "    g_t /= num\n",
    "    e_vals, e_vec = np.linalg.eig(g_t)\n",
    "    P = give_P(eig_vals=e_vals,quality=95)\n",
    "    print(\"P: \",P)\n",
    "    new_bases = e_vec[:,0:P]\n",
    "    new_cord = np.dot(images,new_bases.T)\n",
    "    return new_cord\n",
    "        \n",
    "\n",
    "mean_face = np.mean(dct_images,0)\n",
    "images_mean_subtracted = dct_images - mean_face\n",
    "\n",
    "\n"
   ]
  },
  {
   "cell_type": "code",
   "execution_count": null,
   "metadata": {},
   "outputs": [],
   "source": [
    "new_images = reduce_dim(dct_images,images_mean_subtracted)"
   ]
  },
  {
   "cell_type": "code",
   "execution_count": null,
   "metadata": {},
   "outputs": [],
   "source": [
    "new_images[456].shape"
   ]
  },
  {
   "cell_type": "code",
   "execution_count": null,
   "metadata": {},
   "outputs": [],
   "source": [
    "cv_disp_img(cv2.hconcat((training_images[456],dct_images[456],new_images[456])))"
   ]
  },
  {
   "cell_type": "code",
   "execution_count": 4,
   "metadata": {},
   "outputs": [
    {
     "name": "stdout",
     "output_type": "stream",
     "text": [
      "Populating the interactive namespace from numpy and matplotlib\n"
     ]
    }
   ],
   "source": []
  },
  {
   "cell_type": "code",
   "execution_count": 5,
   "metadata": {},
   "outputs": [
    {
     "name": "stdout",
     "output_type": "stream",
     "text": [
      "Released Video Resource\n"
     ]
    }
   ],
   "source": []
  }
 ],
 "metadata": {
  "kernelspec": {
   "display_name": "CPE646",
   "language": "python",
   "name": "cpe646"
  },
  "language_info": {
   "codemirror_mode": {
    "name": "ipython",
    "version": 3
   },
   "file_extension": ".py",
   "mimetype": "text/x-python",
   "name": "python",
   "nbconvert_exporter": "python",
   "pygments_lexer": "ipython3",
   "version": "3.7.7"
  }
 },
 "nbformat": 4,
 "nbformat_minor": 4
}
