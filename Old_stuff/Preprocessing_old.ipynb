{
 "cells": [
  {
   "cell_type": "code",
   "execution_count": 1,
   "metadata": {},
   "outputs": [
    {
     "name": "stderr",
     "output_type": "stream",
     "text": [
      "Using TensorFlow backend.\n"
     ]
    }
   ],
   "source": [
    "from sklearn.preprocessing import LabelEncoder\n",
    "from keras.utils import np_utils"
   ]
  },
  {
   "cell_type": "code",
   "execution_count": 2,
   "metadata": {},
   "outputs": [],
   "source": [
    "import cv2\n",
    "import matplotlib.pyplot as plt\n",
    "from scipy.fftpack import dct, idct\n",
    "from random import shuffle as shuf\n",
    "from imutils import paths\n",
    "import os\n",
    "import numpy as np\n",
    "from PCA2D import PCA2D"
   ]
  },
  {
   "cell_type": "code",
   "execution_count": 3,
   "metadata": {},
   "outputs": [],
   "source": [
    "# implement 2D DCT\n",
    "def dct2(a):\n",
    "    return dct(dct(a.T, norm='ortho').T, norm='ortho')\n",
    "\n",
    "# implement 2D IDCT\n",
    "def idct2(a):\n",
    "    return idct(idct(a.T, norm='ortho').T, norm='ortho') \n",
    "\n",
    "def dct_compression(img):\n",
    "    imf = np.float32(img)\n",
    "    comp = dct2(imf)/255. # Scale to force low values to 0\n",
    "    comp = np.uint8(idct2(comp)*255)\n",
    "    return comp"
   ]
  },
  {
   "cell_type": "markdown",
   "metadata": {},
   "source": [
    "###### def cv_disp_img(img, title=\"image\"):\n",
    "    while True:\n",
    "        cv2.imshow(title, img)\n",
    "        k = cv2.waitKey(1)\n",
    "\n",
    "        if k & 0xFF == ord('q'):\n",
    "            # q key pressed so quit\n",
    "            print(\"Quitting...\")\n",
    "            break\n",
    "\n",
    "    cv2.destroyAllWindows()\n",
    "    cv2.waitKey(1)"
   ]
  },
  {
   "cell_type": "code",
   "execution_count": 5,
   "metadata": {},
   "outputs": [],
   "source": [
    "imagePaths = list(paths.list_images(\"./Dataset/Train/\"))\n",
    "shuf(imagePaths)"
   ]
  },
  {
   "cell_type": "code",
   "execution_count": 8,
   "metadata": {},
   "outputs": [
    {
     "data": {
      "text/plain": [
       "1990"
      ]
     },
     "execution_count": 8,
     "metadata": {},
     "output_type": "execute_result"
    }
   ],
   "source": [
    "len(imagePaths)"
   ]
  },
  {
   "cell_type": "code",
   "execution_count": 9,
   "metadata": {},
   "outputs": [],
   "source": [
    "# Generate Dataset Matrix & Normalize/DCT\n",
    "width = height = 300\n",
    "size = (width * height)\n",
    "\n",
    "image_mat = np.zeros((len(imagePaths), height,width),dtype=np.uint8)\n",
    "\n",
    "for ct, image in enumerate(imagePaths):\n",
    "    img = cv2.imread(image, 0)\n",
    "    scaled = cv2.resize(img, (width, height), interpolation=cv2.INTER_LINEAR)\n",
    "    norm_img = np.zeros((width, height))\n",
    "    norm_img = cv2.normalize(scaled, norm_img, 0, 255, cv2.NORM_MINMAX)\n",
    "    dct_image = dct_compression(norm_img)\n",
    "    image_mat[ct, :, :] = dct_image"
   ]
  },
  {
   "cell_type": "raw",
   "metadata": {},
   "source": [
    "# Row Vectors Compute G Proof\n",
    "Avg = np.mean(image_mat,0)\n",
    "A = np.zeros(image_mat.shape[1:])\n",
    "G = np.zeros(image_mat.shape[1:])\n",
    "for k in range(image_mat.shape[0]):\n",
    "    A = np.zeros(image_mat.shape[1:])\n",
    "    for i in range(image_mat.shape[1]):\n",
    "        A += (image_mat[k,i,:].reshape(1,300) - Avg[i,:].reshape(1,300)).T @ (image_mat[k,i,:].reshape(1,300) - Avg[i,:].reshape(1,300))\n",
    "    G += A\n",
    "        \n",
    "        \n",
    "G /= image_mat.shape[0]\n",
    "G"
   ]
  },
  {
   "cell_type": "raw",
   "metadata": {},
   "source": [
    "# Col Vectors Compute H for Alternate 2DPCA Proof\n",
    "Avg = np.mean(image_mat,0)\n",
    "A = np.zeros(image_mat.shape[1:])\n",
    "H = np.zeros(image_mat.shape[1:])\n",
    "for k in range(image_mat.shape[0]):\n",
    "    A = np.zeros(image_mat.shape[1:])\n",
    "    for j in range(image_mat.shape[2]):\n",
    "        A += (image_mat[k,:,j].reshape(300,1) - Avg[:,j].reshape(300,1)) @ (image_mat[k,:,j].reshape(300,1) - Avg[:,j].reshape(300,1)).T\n",
    "    H += A\n",
    "        \n",
    "        \n",
    "H /= image_mat.shape[0]\n",
    "H"
   ]
  },
  {
   "cell_type": "code",
   "execution_count": 10,
   "metadata": {},
   "outputs": [],
   "source": [
    "# 2DPCA\n",
    "def give_d(eig_vals,quality):\n",
    "    s = np.sum(eig_vals)\n",
    "    thresh = s * quality\n",
    "    t = 0\n",
    "    d = 0\n",
    "    while t < thresh:\n",
    "        t += eig_vals[d]\n",
    "        d += 1\n",
    "    return d\n",
    "        \n",
    "    \n",
    "def reduce_dim_row(images,d=0,quality=0):\n",
    "    A = np.mean(images,0)\n",
    "    M = images.shape[0]\n",
    "    \n",
    "    height = images.shape[1]\n",
    "\n",
    "    G = np.zeros((height, height))\n",
    "    for i in range(M):\n",
    "        G += (images[i]-A).T @ (images[i]-A)\n",
    "    G /= M\n",
    "    \n",
    "    G_e_vals, G_e_vec = np.linalg.eig(G)\n",
    "    \n",
    "    if quality:\n",
    "        d = give_d(G_e_vals, quality)\n",
    "    \n",
    "    X = G_e_vec[:,0:d]\n",
    "    \n",
    "    Y = images @ X\n",
    "    \n",
    "    return Y, X, G\n",
    "    \n",
    "    \n",
    "def reduce_dim_col(images,q=0,quality=0):\n",
    "    A = np.mean(images,0)\n",
    "    M = images.shape[0]\n",
    "    \n",
    "    width = images.shape[2]\n",
    "\n",
    "    H = np.zeros((width, width))\n",
    "    for i in range(M):\n",
    "        H += (images[i]-A) @ (images[i]-A).T\n",
    "    H /= M\n",
    "    \n",
    "    H_e_vals, H_e_vec = np.linalg.eig(H)\n",
    "    \n",
    "    if quality:\n",
    "        q = give_d(H_e_vals, quality)\n",
    "    \n",
    "    Z = H_e_vec[:,0:q]\n",
    "\n",
    "    B = Z.T @ images\n",
    "    \n",
    "    return B, Z, H\n",
    "    \n",
    "    \n",
    "    \n",
    "def reduce_dim_square(images,q=0,d=0,quality=0):\n",
    "    \n",
    "    _,X,_ = reduce_dim_row(images,d=d,quality=quality)\n",
    "    _,Z,_ = reduce_dim_col(images,q=q,quality=quality)\n",
    "    \n",
    "    C = Z.T @ images @ X\n",
    "    \n",
    "    return C, X, Z"
   ]
  },
  {
   "cell_type": "code",
   "execution_count": 11,
   "metadata": {},
   "outputs": [],
   "source": [
    "Y, X, G = reduce_dim_row(image_mat,quality=.9)\n",
    "B, Z, H = reduce_dim_col(image_mat,quality=.9)\n",
    "C, X_2, Z_2 = reduce_dim_square(image_mat,quality=0.9)\n",
    "# mean = np.mean(image_mat,0)\n",
    "# C2,X2,Z2 = PCA2D(image_mat,mean,quality=.9).reduce_dim_col()"
   ]
  },
  {
   "cell_type": "code",
   "execution_count": 12,
   "metadata": {},
   "outputs": [
    {
     "data": {
      "text/plain": [
       "((1990, 7, 9), (300, 9), (300, 7))"
      ]
     },
     "execution_count": 12,
     "metadata": {},
     "output_type": "execute_result"
    }
   ],
   "source": [
    "C.shape, X.shape, Z.shape"
   ]
  },
  {
   "cell_type": "code",
   "execution_count": 13,
   "metadata": {},
   "outputs": [],
   "source": [
    "np.save(\"./PP_Data/C.npy\", C)\n",
    "np.save(\"./PP_Data/X.npy\", X)\n",
    "np.save(\"./PP_Data/Z.npy\", Z)"
   ]
  },
  {
   "cell_type": "code",
   "execution_count": 23,
   "metadata": {},
   "outputs": [
    {
     "name": "stdout",
     "output_type": "stream",
     "text": [
      "Quitting...\n"
     ]
    }
   ],
   "source": [
    "horiz = []\n",
    "num = 0\n",
    "for ct, image in enumerate(imagePaths):\n",
    "    if \"Connor\" in image:\n",
    "        if num <= 5:\n",
    "            original = cv2.imread(image,0)\n",
    "            original_scaled = cv2.resize(original, (height,width), interpolation=cv2.INTER_LINEAR)\n",
    "            \n",
    "            rowPCA = np.uint8(Y[ct] @ X.T)\n",
    "            colPCA = np.uint8(Z @ B[ct])\n",
    "            \n",
    "            sqrPCA = np.uint8(Z @ C[ct] @ X.T)\n",
    "            sqrPCA = cv2.resize(sqrPCA, (height,width), interpolation=cv2.INTER_LINEAR)\n",
    "            \n",
    "            featMat = cv2.resize(np.uint8(C[ct]), (height,width), interpolation=cv2.INTER_LINEAR)\n",
    "        \n",
    "            horiz += [cv2.hconcat((original_scaled,rowPCA,colPCA,sqrPCA,featMat))]\n",
    "        num += 1\n",
    "\n",
    "cv_disp_img(cv2.vconcat(tuple(horiz)))"
   ]
  },
  {
   "cell_type": "code",
   "execution_count": 24,
   "metadata": {
    "collapsed": true,
    "jupyter": {
     "outputs_hidden": true
    }
   },
   "outputs": [
    {
     "name": "stdout",
     "output_type": "stream",
     "text": [
      "[INFO] processed 10/1990\n",
      "[INFO] processed 20/1990\n",
      "[INFO] processed 30/1990\n",
      "[INFO] processed 40/1990\n",
      "[INFO] processed 50/1990\n",
      "[INFO] processed 60/1990\n",
      "[INFO] processed 70/1990\n",
      "[INFO] processed 80/1990\n",
      "[INFO] processed 90/1990\n",
      "[INFO] processed 100/1990\n",
      "[INFO] processed 110/1990\n",
      "[INFO] processed 120/1990\n",
      "[INFO] processed 130/1990\n",
      "[INFO] processed 140/1990\n",
      "[INFO] processed 150/1990\n",
      "[INFO] processed 160/1990\n",
      "[INFO] processed 170/1990\n",
      "[INFO] processed 180/1990\n",
      "[INFO] processed 190/1990\n",
      "[INFO] processed 200/1990\n",
      "[INFO] processed 210/1990\n",
      "[INFO] processed 220/1990\n",
      "[INFO] processed 230/1990\n",
      "[INFO] processed 240/1990\n",
      "[INFO] processed 250/1990\n",
      "[INFO] processed 260/1990\n",
      "[INFO] processed 270/1990\n",
      "[INFO] processed 280/1990\n",
      "[INFO] processed 290/1990\n",
      "[INFO] processed 300/1990\n",
      "[INFO] processed 310/1990\n",
      "[INFO] processed 320/1990\n",
      "[INFO] processed 330/1990\n",
      "[INFO] processed 340/1990\n",
      "[INFO] processed 350/1990\n",
      "[INFO] processed 360/1990\n",
      "[INFO] processed 370/1990\n",
      "[INFO] processed 380/1990\n",
      "[INFO] processed 390/1990\n",
      "[INFO] processed 400/1990\n",
      "[INFO] processed 410/1990\n",
      "[INFO] processed 420/1990\n",
      "[INFO] processed 430/1990\n",
      "[INFO] processed 440/1990\n",
      "[INFO] processed 450/1990\n",
      "[INFO] processed 460/1990\n",
      "[INFO] processed 470/1990\n",
      "[INFO] processed 480/1990\n",
      "[INFO] processed 490/1990\n",
      "[INFO] processed 500/1990\n",
      "[INFO] processed 510/1990\n",
      "[INFO] processed 520/1990\n",
      "[INFO] processed 530/1990\n",
      "[INFO] processed 540/1990\n",
      "[INFO] processed 550/1990\n",
      "[INFO] processed 560/1990\n",
      "[INFO] processed 570/1990\n",
      "[INFO] processed 580/1990\n",
      "[INFO] processed 590/1990\n",
      "[INFO] processed 600/1990\n",
      "[INFO] processed 610/1990\n",
      "[INFO] processed 620/1990\n",
      "[INFO] processed 630/1990\n",
      "[INFO] processed 640/1990\n",
      "[INFO] processed 650/1990\n",
      "[INFO] processed 660/1990\n",
      "[INFO] processed 670/1990\n",
      "[INFO] processed 680/1990\n",
      "[INFO] processed 690/1990\n",
      "[INFO] processed 700/1990\n",
      "[INFO] processed 710/1990\n",
      "[INFO] processed 720/1990\n",
      "[INFO] processed 730/1990\n",
      "[INFO] processed 740/1990\n",
      "[INFO] processed 750/1990\n",
      "[INFO] processed 760/1990\n",
      "[INFO] processed 770/1990\n",
      "[INFO] processed 780/1990\n",
      "[INFO] processed 790/1990\n",
      "[INFO] processed 800/1990\n",
      "[INFO] processed 810/1990\n",
      "[INFO] processed 820/1990\n",
      "[INFO] processed 830/1990\n",
      "[INFO] processed 840/1990\n",
      "[INFO] processed 850/1990\n",
      "[INFO] processed 860/1990\n",
      "[INFO] processed 870/1990\n",
      "[INFO] processed 880/1990\n",
      "[INFO] processed 890/1990\n",
      "[INFO] processed 900/1990\n",
      "[INFO] processed 910/1990\n",
      "[INFO] processed 920/1990\n",
      "[INFO] processed 930/1990\n",
      "[INFO] processed 940/1990\n",
      "[INFO] processed 950/1990\n",
      "[INFO] processed 960/1990\n",
      "[INFO] processed 970/1990\n",
      "[INFO] processed 980/1990\n",
      "[INFO] processed 990/1990\n",
      "[INFO] processed 1000/1990\n",
      "[INFO] processed 1010/1990\n",
      "[INFO] processed 1020/1990\n",
      "[INFO] processed 1030/1990\n",
      "[INFO] processed 1040/1990\n",
      "[INFO] processed 1050/1990\n",
      "[INFO] processed 1060/1990\n",
      "[INFO] processed 1070/1990\n",
      "[INFO] processed 1080/1990\n",
      "[INFO] processed 1090/1990\n",
      "[INFO] processed 1100/1990\n",
      "[INFO] processed 1110/1990\n",
      "[INFO] processed 1120/1990\n",
      "[INFO] processed 1130/1990\n",
      "[INFO] processed 1140/1990\n",
      "[INFO] processed 1150/1990\n",
      "[INFO] processed 1160/1990\n",
      "[INFO] processed 1170/1990\n",
      "[INFO] processed 1180/1990\n",
      "[INFO] processed 1190/1990\n",
      "[INFO] processed 1200/1990\n",
      "[INFO] processed 1210/1990\n",
      "[INFO] processed 1220/1990\n",
      "[INFO] processed 1230/1990\n",
      "[INFO] processed 1240/1990\n",
      "[INFO] processed 1250/1990\n",
      "[INFO] processed 1260/1990\n",
      "[INFO] processed 1270/1990\n",
      "[INFO] processed 1280/1990\n",
      "[INFO] processed 1290/1990\n",
      "[INFO] processed 1300/1990\n",
      "[INFO] processed 1310/1990\n",
      "[INFO] processed 1320/1990\n",
      "[INFO] processed 1330/1990\n",
      "[INFO] processed 1340/1990\n",
      "[INFO] processed 1350/1990\n",
      "[INFO] processed 1360/1990\n",
      "[INFO] processed 1370/1990\n",
      "[INFO] processed 1380/1990\n",
      "[INFO] processed 1390/1990\n",
      "[INFO] processed 1400/1990\n",
      "[INFO] processed 1410/1990\n",
      "[INFO] processed 1420/1990\n",
      "[INFO] processed 1430/1990\n",
      "[INFO] processed 1440/1990\n",
      "[INFO] processed 1450/1990\n",
      "[INFO] processed 1460/1990\n",
      "[INFO] processed 1470/1990\n",
      "[INFO] processed 1480/1990\n",
      "[INFO] processed 1490/1990\n",
      "[INFO] processed 1500/1990\n",
      "[INFO] processed 1510/1990\n",
      "[INFO] processed 1520/1990\n",
      "[INFO] processed 1530/1990\n",
      "[INFO] processed 1540/1990\n",
      "[INFO] processed 1550/1990\n",
      "[INFO] processed 1560/1990\n",
      "[INFO] processed 1570/1990\n",
      "[INFO] processed 1580/1990\n",
      "[INFO] processed 1590/1990\n",
      "[INFO] processed 1600/1990\n",
      "[INFO] processed 1610/1990\n",
      "[INFO] processed 1620/1990\n",
      "[INFO] processed 1630/1990\n",
      "[INFO] processed 1640/1990\n",
      "[INFO] processed 1650/1990\n",
      "[INFO] processed 1660/1990\n",
      "[INFO] processed 1670/1990\n",
      "[INFO] processed 1680/1990\n",
      "[INFO] processed 1690/1990\n",
      "[INFO] processed 1700/1990\n",
      "[INFO] processed 1710/1990\n",
      "[INFO] processed 1720/1990\n",
      "[INFO] processed 1730/1990\n",
      "[INFO] processed 1740/1990\n",
      "[INFO] processed 1750/1990\n",
      "[INFO] processed 1760/1990\n",
      "[INFO] processed 1770/1990\n",
      "[INFO] processed 1780/1990\n",
      "[INFO] processed 1790/1990\n",
      "[INFO] processed 1800/1990\n",
      "[INFO] processed 1810/1990\n",
      "[INFO] processed 1820/1990\n",
      "[INFO] processed 1830/1990\n",
      "[INFO] processed 1840/1990\n",
      "[INFO] processed 1850/1990\n",
      "[INFO] processed 1860/1990\n",
      "[INFO] processed 1870/1990\n",
      "[INFO] processed 1880/1990\n",
      "[INFO] processed 1890/1990\n",
      "[INFO] processed 1900/1990\n",
      "[INFO] processed 1910/1990\n",
      "[INFO] processed 1920/1990\n",
      "[INFO] processed 1930/1990\n",
      "[INFO] processed 1940/1990\n",
      "[INFO] processed 1950/1990\n",
      "[INFO] processed 1960/1990\n",
      "[INFO] processed 1970/1990\n",
      "[INFO] processed 1980/1990\n"
     ]
    }
   ],
   "source": [
    "def image_to_feature_vector(image):\n",
    "    return np.uint8(image).flatten()\n",
    "\n",
    "data = []\n",
    "labels = []\n",
    "\n",
    "for (i, imagePath) in enumerate(imagePaths):\n",
    "\n",
    "    image = C[i]\n",
    "    label = imagePath.split(os.path.sep)[-1].split(\".\")[0]\n",
    "\n",
    "    features = image_to_feature_vector(image)\n",
    "    data.append(features)\n",
    "    labels.append(label)\n",
    "\n",
    "    if i > 0 and i % 10 == 0:\n",
    "        print(\"[INFO] processed {}/{}\".format(i, len(imagePaths)))"
   ]
  },
  {
   "cell_type": "code",
   "execution_count": 25,
   "metadata": {
    "collapsed": true,
    "jupyter": {
     "outputs_hidden": true
    }
   },
   "outputs": [
    {
     "name": "stdout",
     "output_type": "stream",
     "text": [
      "['Connor', 'Maddie', 'Dad', 'Dad', 'Maddie', 'Mom', 'Dad', 'Dad', 'Connor', 'Connor', 'Maddie', 'Mom', 'Dad', 'Connor', 'Connor', 'Connor', 'Maddie', 'Mom', 'Mom', 'Connor', 'Mom', 'Mom', 'Maddie', 'Mom', 'Connor', 'Dad', 'Connor', 'Connor', 'Maddie', 'Dad', 'Connor', 'Maddie', 'Maddie', 'Connor', 'Connor', 'Maddie', 'Connor', 'Connor', 'Dad', 'Dad', 'Connor', 'Dad', 'Mom', 'Mom', 'Mom', 'Connor', 'Dad', 'Connor', 'Connor', 'Mom', 'Connor', 'Mom', 'Maddie', 'Mom', 'Maddie', 'Connor', 'Mom', 'Dad', 'Connor', 'Connor', 'Maddie', 'Connor', 'Connor', 'Mom', 'Dad', 'Connor', 'Connor', 'Connor', 'Dad', 'Mom', 'Mom', 'Connor', 'Connor', 'Connor', 'Maddie', 'Connor', 'Dad', 'Dad', 'Connor', 'Connor', 'Connor', 'Connor', 'Maddie', 'Dad', 'Mom', 'Mom', 'Connor', 'Connor', 'Dad', 'Mom', 'Mom', 'Connor', 'Dad', 'Connor', 'Connor', 'Mom', 'Connor', 'Mom', 'Connor', 'Dad', 'Connor', 'Connor', 'Connor', 'Connor', 'Mom', 'Connor', 'Maddie', 'Connor', 'Mom', 'Connor', 'Mom', 'Maddie', 'Mom', 'Connor', 'Connor', 'Dad', 'Mom', 'Mom', 'Maddie', 'Mom', 'Connor', 'Maddie', 'Mom', 'Connor', 'Connor', 'Mom', 'Maddie', 'Dad', 'Dad', 'Dad', 'Maddie', 'Dad', 'Maddie', 'Maddie', 'Dad', 'Mom', 'Maddie', 'Maddie', 'Connor', 'Dad', 'Connor', 'Connor', 'Maddie', 'Connor', 'Dad', 'Dad', 'Connor', 'Connor', 'Dad', 'Mom', 'Mom', 'Connor', 'Dad', 'Connor', 'Mom', 'Maddie', 'Connor', 'Connor', 'Mom', 'Connor', 'Connor', 'Maddie', 'Dad', 'Mom', 'Dad', 'Mom', 'Mom', 'Dad', 'Maddie', 'Maddie', 'Maddie', 'Connor', 'Dad', 'Maddie', 'Mom', 'Connor', 'Connor', 'Mom', 'Connor', 'Mom', 'Mom', 'Connor', 'Connor', 'Connor', 'Mom', 'Dad', 'Connor', 'Dad', 'Dad', 'Mom', 'Maddie', 'Dad', 'Maddie', 'Mom', 'Maddie', 'Mom', 'Mom', 'Connor', 'Mom', 'Mom', 'Connor', 'Connor', 'Dad', 'Maddie', 'Connor', 'Connor', 'Dad', 'Mom', 'Connor', 'Connor', 'Maddie', 'Maddie', 'Mom', 'Maddie', 'Maddie', 'Maddie', 'Dad', 'Connor', 'Connor', 'Dad', 'Dad', 'Connor', 'Maddie', 'Mom', 'Mom', 'Maddie', 'Maddie', 'Dad', 'Mom', 'Connor', 'Connor', 'Connor', 'Maddie', 'Maddie', 'Maddie', 'Dad', 'Connor', 'Connor', 'Connor', 'Connor', 'Connor', 'Maddie', 'Maddie', 'Connor', 'Connor', 'Connor', 'Connor', 'Connor', 'Maddie', 'Connor', 'Dad', 'Connor', 'Mom', 'Connor', 'Maddie', 'Connor', 'Maddie', 'Connor', 'Connor', 'Connor', 'Mom', 'Mom', 'Connor', 'Connor', 'Dad', 'Dad', 'Connor', 'Connor', 'Dad', 'Connor', 'Mom', 'Maddie', 'Maddie', 'Dad', 'Connor', 'Connor', 'Maddie', 'Mom', 'Mom', 'Dad', 'Maddie', 'Dad', 'Maddie', 'Dad', 'Connor', 'Mom', 'Mom', 'Connor', 'Connor', 'Connor', 'Connor', 'Dad', 'Maddie', 'Connor', 'Connor', 'Connor', 'Dad', 'Connor', 'Maddie', 'Maddie', 'Mom', 'Maddie', 'Dad', 'Mom', 'Mom', 'Connor', 'Connor', 'Mom', 'Dad', 'Mom', 'Connor', 'Maddie', 'Mom', 'Dad', 'Mom', 'Connor', 'Connor', 'Dad', 'Connor', 'Maddie', 'Connor', 'Dad', 'Dad', 'Connor', 'Mom', 'Mom', 'Dad', 'Mom', 'Connor', 'Mom', 'Mom', 'Connor', 'Mom', 'Dad', 'Mom', 'Connor', 'Dad', 'Dad', 'Connor', 'Connor', 'Mom', 'Dad', 'Connor', 'Connor', 'Mom', 'Connor', 'Mom', 'Mom', 'Connor', 'Maddie', 'Dad', 'Connor', 'Maddie', 'Dad', 'Maddie', 'Mom', 'Mom', 'Mom', 'Connor', 'Connor', 'Maddie', 'Dad', 'Connor', 'Connor', 'Mom', 'Mom', 'Maddie', 'Dad', 'Connor', 'Mom', 'Dad', 'Connor', 'Connor', 'Dad', 'Maddie', 'Maddie', 'Dad', 'Mom', 'Connor', 'Mom', 'Mom', 'Connor', 'Dad', 'Mom', 'Connor', 'Connor', 'Dad', 'Connor', 'Dad', 'Mom', 'Connor', 'Mom', 'Connor', 'Maddie', 'Dad', 'Mom', 'Dad', 'Mom', 'Connor', 'Mom', 'Mom', 'Mom', 'Dad', 'Connor', 'Mom', 'Maddie', 'Connor', 'Connor', 'Maddie', 'Mom', 'Mom', 'Connor', 'Maddie', 'Maddie', 'Maddie', 'Dad', 'Connor', 'Mom', 'Mom', 'Dad', 'Mom', 'Connor', 'Mom', 'Dad', 'Mom', 'Connor', 'Mom', 'Mom', 'Dad', 'Dad', 'Connor', 'Mom', 'Connor', 'Mom', 'Maddie', 'Connor', 'Mom', 'Maddie', 'Dad', 'Maddie', 'Connor', 'Maddie', 'Mom', 'Mom', 'Mom', 'Connor', 'Connor', 'Connor', 'Dad', 'Connor', 'Connor', 'Connor', 'Mom', 'Mom', 'Connor', 'Connor', 'Connor', 'Connor', 'Dad', 'Connor', 'Connor', 'Mom', 'Connor', 'Connor', 'Mom', 'Mom', 'Mom', 'Dad', 'Connor', 'Connor', 'Dad', 'Connor', 'Dad', 'Mom', 'Mom', 'Dad', 'Connor', 'Connor', 'Maddie', 'Connor', 'Mom', 'Mom', 'Connor', 'Connor', 'Connor', 'Connor', 'Dad', 'Maddie', 'Dad', 'Dad', 'Connor', 'Maddie', 'Mom', 'Connor', 'Connor', 'Mom', 'Dad', 'Connor', 'Dad', 'Maddie', 'Connor', 'Mom', 'Maddie', 'Mom', 'Mom', 'Maddie', 'Maddie', 'Maddie', 'Connor', 'Connor', 'Connor', 'Mom', 'Connor', 'Connor', 'Dad', 'Dad', 'Dad', 'Maddie', 'Maddie', 'Connor', 'Connor', 'Dad', 'Mom', 'Maddie', 'Connor', 'Mom', 'Connor', 'Mom', 'Mom', 'Connor', 'Connor', 'Connor', 'Mom', 'Connor', 'Maddie', 'Maddie', 'Dad', 'Connor', 'Mom', 'Maddie', 'Dad', 'Maddie', 'Dad', 'Dad', 'Connor', 'Connor', 'Connor', 'Mom', 'Mom', 'Connor', 'Dad', 'Connor', 'Connor', 'Connor', 'Maddie', 'Mom', 'Dad', 'Mom', 'Maddie', 'Maddie', 'Maddie', 'Connor', 'Dad', 'Mom', 'Maddie', 'Connor', 'Maddie', 'Connor', 'Dad', 'Dad', 'Mom', 'Dad', 'Mom', 'Mom', 'Connor', 'Maddie', 'Connor', 'Dad', 'Connor', 'Mom', 'Connor', 'Dad', 'Connor', 'Maddie', 'Maddie', 'Dad', 'Dad', 'Mom', 'Connor', 'Connor', 'Mom', 'Dad', 'Dad', 'Dad', 'Connor', 'Mom', 'Dad', 'Connor', 'Mom', 'Connor', 'Connor', 'Mom', 'Connor', 'Mom', 'Connor', 'Connor', 'Connor', 'Dad', 'Maddie', 'Connor', 'Dad', 'Connor', 'Mom', 'Connor', 'Mom', 'Connor', 'Dad', 'Dad', 'Mom', 'Maddie', 'Mom', 'Mom', 'Connor', 'Mom', 'Connor', 'Mom', 'Mom', 'Dad', 'Mom', 'Maddie', 'Dad', 'Maddie', 'Connor', 'Connor', 'Dad', 'Connor', 'Maddie', 'Connor', 'Connor', 'Connor', 'Connor', 'Mom', 'Dad', 'Connor', 'Mom', 'Maddie', 'Connor', 'Connor', 'Maddie', 'Dad', 'Connor', 'Connor', 'Dad', 'Dad', 'Mom', 'Maddie', 'Maddie', 'Connor', 'Maddie', 'Dad', 'Mom', 'Mom', 'Maddie', 'Connor', 'Maddie', 'Dad', 'Dad', 'Maddie', 'Dad', 'Connor', 'Connor', 'Mom', 'Mom', 'Mom', 'Connor', 'Dad', 'Connor', 'Mom', 'Mom', 'Maddie', 'Maddie', 'Connor', 'Connor', 'Connor', 'Connor', 'Dad', 'Connor', 'Dad', 'Maddie', 'Maddie', 'Dad', 'Connor', 'Connor', 'Connor', 'Dad', 'Mom', 'Maddie', 'Maddie', 'Connor', 'Mom', 'Dad', 'Mom', 'Connor', 'Maddie', 'Connor', 'Dad', 'Mom', 'Maddie', 'Connor', 'Maddie', 'Dad', 'Connor', 'Maddie', 'Connor', 'Connor', 'Mom', 'Mom', 'Maddie', 'Mom', 'Maddie', 'Mom', 'Mom', 'Connor', 'Dad', 'Dad', 'Mom', 'Mom', 'Mom', 'Maddie', 'Dad', 'Mom', 'Connor', 'Mom', 'Maddie', 'Maddie', 'Connor', 'Maddie', 'Dad', 'Connor', 'Mom', 'Maddie', 'Connor', 'Dad', 'Connor', 'Mom', 'Connor', 'Connor', 'Connor', 'Mom', 'Connor', 'Dad', 'Maddie', 'Mom', 'Connor', 'Maddie', 'Maddie', 'Connor', 'Maddie', 'Maddie', 'Connor', 'Connor', 'Dad', 'Mom', 'Connor', 'Dad', 'Mom', 'Mom', 'Dad', 'Connor', 'Dad', 'Dad', 'Mom', 'Connor', 'Connor', 'Dad', 'Connor', 'Maddie', 'Maddie', 'Dad', 'Mom', 'Connor', 'Dad', 'Connor', 'Mom', 'Mom', 'Mom', 'Connor', 'Connor', 'Connor', 'Maddie', 'Connor', 'Connor', 'Dad', 'Mom', 'Dad', 'Mom', 'Maddie', 'Dad', 'Dad', 'Connor', 'Connor', 'Mom', 'Mom', 'Dad', 'Mom', 'Connor', 'Dad', 'Mom', 'Connor', 'Connor', 'Connor', 'Maddie', 'Dad', 'Dad', 'Mom', 'Mom', 'Dad', 'Dad', 'Dad', 'Mom', 'Dad', 'Maddie', 'Mom', 'Mom', 'Mom', 'Connor', 'Mom', 'Maddie', 'Maddie', 'Maddie', 'Connor', 'Mom', 'Dad', 'Connor', 'Dad', 'Connor', 'Maddie', 'Mom', 'Dad', 'Maddie', 'Connor', 'Connor', 'Dad', 'Connor', 'Dad', 'Maddie', 'Connor', 'Dad', 'Dad', 'Connor', 'Mom', 'Connor', 'Dad', 'Dad', 'Connor', 'Mom', 'Connor', 'Connor', 'Dad', 'Dad', 'Maddie', 'Mom', 'Connor', 'Connor', 'Mom', 'Maddie', 'Mom', 'Connor', 'Mom', 'Mom', 'Connor', 'Dad', 'Mom', 'Connor', 'Maddie', 'Dad', 'Maddie', 'Connor', 'Connor', 'Connor', 'Mom', 'Mom', 'Connor', 'Maddie', 'Dad', 'Connor', 'Connor', 'Mom', 'Maddie', 'Dad', 'Connor', 'Mom', 'Connor', 'Maddie', 'Connor', 'Dad', 'Maddie', 'Connor', 'Mom', 'Dad', 'Dad', 'Mom', 'Mom', 'Connor', 'Mom', 'Dad', 'Dad', 'Mom', 'Connor', 'Mom', 'Dad', 'Mom', 'Dad', 'Mom', 'Dad', 'Mom', 'Connor', 'Connor', 'Maddie', 'Dad', 'Dad', 'Connor', 'Dad', 'Maddie', 'Dad', 'Connor', 'Dad', 'Mom', 'Dad', 'Dad', 'Mom', 'Connor', 'Mom', 'Dad', 'Connor', 'Dad', 'Maddie', 'Dad', 'Dad', 'Connor', 'Connor', 'Mom', 'Connor', 'Dad', 'Mom', 'Dad', 'Mom', 'Connor', 'Mom', 'Maddie', 'Maddie', 'Mom', 'Maddie', 'Mom', 'Connor', 'Dad', 'Dad', 'Dad', 'Connor', 'Connor', 'Connor', 'Dad', 'Dad', 'Dad', 'Connor', 'Mom', 'Connor', 'Mom', 'Mom', 'Connor', 'Connor', 'Connor', 'Dad', 'Mom', 'Mom', 'Dad', 'Mom', 'Dad', 'Maddie', 'Mom', 'Maddie', 'Connor', 'Maddie', 'Mom', 'Mom', 'Maddie', 'Mom', 'Mom', 'Connor', 'Mom', 'Connor', 'Maddie', 'Mom', 'Mom', 'Dad', 'Dad', 'Connor', 'Dad', 'Mom', 'Mom', 'Dad', 'Dad', 'Mom', 'Dad', 'Maddie', 'Dad', 'Dad', 'Dad', 'Connor', 'Maddie', 'Maddie', 'Dad', 'Mom', 'Connor', 'Dad', 'Mom', 'Connor', 'Connor', 'Connor', 'Maddie', 'Connor', 'Mom', 'Dad', 'Connor', 'Connor', 'Connor', 'Maddie', 'Connor', 'Connor', 'Mom', 'Connor', 'Connor', 'Connor', 'Dad', 'Maddie', 'Dad', 'Dad', 'Connor', 'Mom', 'Dad', 'Dad', 'Mom', 'Mom', 'Connor', 'Connor', 'Connor', 'Maddie', 'Connor', 'Connor', 'Connor', 'Mom', 'Connor', 'Connor', 'Dad', 'Connor', 'Mom', 'Dad', 'Mom', 'Mom', 'Connor', 'Dad', 'Mom', 'Mom', 'Connor', 'Mom', 'Dad', 'Mom', 'Mom', 'Maddie', 'Mom', 'Connor', 'Connor', 'Maddie', 'Mom', 'Connor', 'Dad', 'Mom', 'Connor', 'Mom', 'Mom', 'Mom', 'Mom', 'Mom', 'Dad', 'Connor', 'Connor', 'Connor', 'Dad', 'Connor', 'Mom', 'Dad', 'Dad', 'Connor', 'Connor', 'Connor', 'Connor', 'Connor', 'Dad', 'Mom', 'Mom', 'Maddie', 'Dad', 'Dad', 'Mom', 'Connor', 'Dad', 'Connor', 'Connor', 'Connor', 'Mom', 'Maddie', 'Connor', 'Dad', 'Mom', 'Dad', 'Mom', 'Connor', 'Connor', 'Maddie', 'Dad', 'Mom', 'Mom', 'Connor', 'Dad', 'Mom', 'Maddie', 'Dad', 'Connor', 'Connor', 'Connor', 'Mom', 'Connor', 'Mom', 'Dad', 'Dad', 'Dad', 'Connor', 'Connor', 'Connor', 'Dad', 'Dad', 'Maddie', 'Connor', 'Dad', 'Mom', 'Connor', 'Connor', 'Mom', 'Connor', 'Connor', 'Connor', 'Mom', 'Maddie', 'Maddie', 'Connor', 'Connor', 'Dad', 'Maddie', 'Mom', 'Connor', 'Dad', 'Connor', 'Mom', 'Maddie', 'Connor', 'Connor', 'Connor', 'Dad', 'Maddie', 'Mom', 'Mom', 'Connor', 'Connor', 'Connor', 'Connor', 'Connor', 'Maddie', 'Connor', 'Mom', 'Connor', 'Maddie', 'Connor', 'Maddie', 'Mom', 'Maddie', 'Maddie', 'Maddie', 'Maddie', 'Dad', 'Connor', 'Mom', 'Connor', 'Dad', 'Dad', 'Mom', 'Connor', 'Dad', 'Mom', 'Connor', 'Mom', 'Connor', 'Dad', 'Dad', 'Mom', 'Dad', 'Dad', 'Connor', 'Mom', 'Connor', 'Maddie', 'Mom', 'Connor', 'Connor', 'Mom', 'Maddie', 'Dad', 'Connor', 'Connor', 'Mom', 'Connor', 'Connor', 'Mom', 'Maddie', 'Connor', 'Maddie', 'Connor', 'Mom', 'Connor', 'Connor', 'Connor', 'Maddie', 'Connor', 'Connor', 'Maddie', 'Connor', 'Connor', 'Connor', 'Dad', 'Connor', 'Maddie', 'Maddie', 'Mom', 'Connor', 'Maddie', 'Mom', 'Maddie', 'Mom', 'Maddie', 'Dad', 'Dad', 'Connor', 'Dad', 'Dad', 'Maddie', 'Maddie', 'Mom', 'Dad', 'Connor', 'Dad', 'Connor', 'Dad', 'Connor', 'Connor', 'Maddie', 'Mom', 'Connor', 'Dad', 'Connor', 'Mom', 'Dad', 'Dad', 'Dad', 'Mom', 'Dad', 'Maddie', 'Mom', 'Dad', 'Maddie', 'Connor', 'Dad', 'Dad', 'Connor', 'Dad', 'Connor', 'Mom', 'Mom', 'Connor', 'Mom', 'Maddie', 'Mom', 'Connor', 'Dad', 'Dad', 'Maddie', 'Mom', 'Dad', 'Connor', 'Dad', 'Maddie', 'Maddie', 'Mom', 'Dad', 'Mom', 'Mom', 'Mom', 'Connor', 'Mom', 'Mom', 'Maddie', 'Connor', 'Dad', 'Dad', 'Maddie', 'Dad', 'Dad', 'Mom', 'Connor', 'Mom', 'Dad', 'Connor', 'Connor', 'Mom', 'Connor', 'Mom', 'Mom', 'Dad', 'Mom', 'Maddie', 'Maddie', 'Connor', 'Mom', 'Connor', 'Dad', 'Connor', 'Maddie', 'Maddie', 'Mom', 'Dad', 'Dad', 'Dad', 'Maddie', 'Connor', 'Connor', 'Mom', 'Mom', 'Dad', 'Connor', 'Dad', 'Connor', 'Mom', 'Maddie', 'Maddie', 'Connor', 'Maddie', 'Mom', 'Maddie', 'Mom', 'Mom', 'Connor', 'Mom', 'Dad', 'Connor', 'Connor', 'Dad', 'Connor', 'Maddie', 'Mom', 'Maddie', 'Maddie', 'Mom', 'Maddie', 'Connor', 'Connor', 'Maddie', 'Connor', 'Mom', 'Dad', 'Connor', 'Connor', 'Mom', 'Mom', 'Mom', 'Connor', 'Mom', 'Mom', 'Connor', 'Maddie', 'Connor', 'Dad', 'Connor', 'Mom', 'Connor', 'Maddie', 'Connor', 'Dad', 'Mom', 'Maddie', 'Maddie', 'Dad', 'Mom', 'Mom', 'Connor', 'Connor', 'Dad', 'Connor', 'Connor', 'Dad', 'Connor', 'Mom', 'Connor', 'Connor', 'Dad', 'Mom', 'Connor', 'Dad', 'Dad', 'Mom', 'Mom', 'Mom', 'Mom', 'Mom', 'Connor', 'Connor', 'Maddie', 'Mom', 'Connor', 'Dad', 'Dad', 'Maddie', 'Connor', 'Maddie', 'Mom', 'Maddie', 'Dad', 'Dad', 'Connor', 'Mom', 'Maddie', 'Maddie', 'Dad', 'Dad', 'Mom', 'Maddie', 'Connor', 'Connor', 'Mom', 'Mom', 'Dad', 'Connor', 'Dad', 'Maddie', 'Mom', 'Mom', 'Connor', 'Mom', 'Dad', 'Maddie', 'Connor', 'Mom', 'Mom', 'Maddie', 'Dad', 'Connor', 'Maddie', 'Dad', 'Connor', 'Maddie', 'Connor', 'Connor', 'Mom', 'Connor', 'Maddie', 'Maddie', 'Mom', 'Dad', 'Connor', 'Connor', 'Mom', 'Connor', 'Mom', 'Connor', 'Connor', 'Mom', 'Mom', 'Connor', 'Connor', 'Connor', 'Maddie', 'Connor', 'Maddie', 'Mom', 'Connor', 'Dad', 'Mom', 'Connor', 'Dad', 'Mom', 'Connor', 'Maddie', 'Maddie', 'Dad', 'Dad', 'Mom', 'Connor', 'Maddie', 'Dad', 'Connor', 'Connor', 'Connor', 'Mom', 'Mom', 'Maddie', 'Maddie', 'Connor', 'Dad', 'Connor', 'Dad', 'Dad', 'Maddie', 'Mom', 'Connor', 'Mom', 'Dad', 'Mom', 'Mom', 'Mom', 'Connor', 'Dad', 'Connor', 'Connor', 'Connor', 'Maddie', 'Connor', 'Maddie', 'Connor', 'Mom', 'Connor', 'Mom', 'Connor', 'Dad', 'Mom', 'Mom', 'Dad', 'Dad', 'Mom', 'Mom', 'Dad', 'Maddie', 'Connor', 'Connor', 'Maddie', 'Maddie', 'Connor', 'Maddie', 'Maddie', 'Connor', 'Connor', 'Maddie', 'Connor', 'Mom', 'Mom', 'Mom', 'Dad', 'Dad', 'Maddie', 'Mom', 'Mom', 'Dad', 'Mom', 'Connor', 'Dad', 'Dad', 'Mom', 'Maddie', 'Mom', 'Connor', 'Maddie', 'Connor', 'Mom', 'Mom', 'Dad', 'Connor', 'Connor', 'Mom', 'Dad', 'Connor', 'Mom', 'Connor', 'Connor', 'Dad', 'Connor', 'Mom', 'Connor', 'Connor', 'Connor', 'Connor', 'Connor', 'Mom', 'Connor', 'Connor', 'Mom', 'Dad', 'Maddie', 'Mom', 'Connor', 'Mom', 'Dad', 'Connor', 'Connor', 'Mom', 'Mom', 'Connor', 'Dad', 'Dad', 'Connor', 'Dad', 'Dad', 'Mom', 'Mom', 'Connor', 'Maddie', 'Mom', 'Mom', 'Dad', 'Maddie', 'Dad', 'Dad', 'Dad', 'Connor', 'Connor', 'Mom', 'Mom', 'Connor', 'Mom', 'Connor', 'Connor', 'Dad', 'Mom', 'Connor', 'Dad', 'Mom', 'Connor', 'Connor', 'Connor', 'Mom', 'Maddie', 'Mom', 'Connor', 'Dad', 'Connor', 'Connor', 'Connor', 'Connor', 'Mom', 'Mom', 'Mom', 'Connor', 'Mom', 'Mom', 'Dad', 'Connor', 'Maddie', 'Mom', 'Dad', 'Connor', 'Connor', 'Maddie', 'Connor', 'Dad', 'Mom', 'Dad', 'Mom', 'Connor', 'Mom', 'Mom', 'Mom', 'Maddie', 'Connor', 'Connor', 'Connor', 'Connor', 'Dad', 'Connor', 'Mom', 'Connor', 'Connor', 'Maddie', 'Connor', 'Mom', 'Mom', 'Mom', 'Mom', 'Mom', 'Dad', 'Maddie', 'Dad', 'Connor', 'Connor', 'Mom', 'Dad', 'Dad', 'Dad', 'Dad', 'Dad', 'Mom', 'Connor', 'Maddie', 'Connor', 'Connor', 'Dad', 'Connor', 'Maddie', 'Connor', 'Maddie', 'Maddie', 'Maddie', 'Maddie', 'Mom', 'Mom', 'Dad', 'Mom', 'Mom', 'Mom', 'Connor', 'Connor', 'Connor', 'Connor', 'Maddie', 'Maddie', 'Dad', 'Maddie', 'Mom', 'Connor', 'Connor', 'Mom', 'Mom', 'Maddie', 'Mom', 'Connor', 'Dad', 'Maddie', 'Maddie', 'Connor', 'Mom', 'Connor', 'Mom', 'Mom', 'Dad', 'Connor', 'Connor', 'Maddie', 'Mom', 'Dad', 'Mom', 'Connor', 'Connor', 'Connor', 'Connor', 'Dad', 'Dad', 'Connor', 'Connor', 'Maddie', 'Connor', 'Connor', 'Maddie', 'Dad', 'Mom', 'Dad', 'Maddie', 'Dad', 'Maddie', 'Dad', 'Dad', 'Connor', 'Connor', 'Connor', 'Connor', 'Dad', 'Dad', 'Connor', 'Dad', 'Connor', 'Dad', 'Connor', 'Connor', 'Connor', 'Connor', 'Connor', 'Maddie', 'Connor', 'Dad', 'Connor', 'Dad', 'Maddie', 'Dad', 'Mom', 'Dad', 'Dad', 'Connor', 'Connor', 'Mom', 'Connor', 'Connor', 'Dad', 'Maddie', 'Maddie', 'Mom', 'Dad', 'Connor', 'Connor', 'Dad', 'Dad', 'Connor', 'Mom', 'Connor', 'Maddie', 'Mom', 'Connor', 'Mom', 'Connor', 'Connor', 'Mom', 'Connor', 'Mom', 'Dad', 'Connor', 'Dad', 'Connor', 'Connor', 'Maddie', 'Dad', 'Dad', 'Connor', 'Maddie', 'Maddie', 'Dad', 'Mom', 'Dad', 'Mom', 'Connor', 'Mom', 'Dad', 'Maddie', 'Connor', 'Dad', 'Connor', 'Dad', 'Maddie', 'Connor', 'Mom', 'Maddie', 'Mom', 'Mom', 'Maddie', 'Connor', 'Connor', 'Maddie', 'Maddie', 'Mom', 'Connor', 'Mom', 'Connor', 'Mom', 'Connor', 'Connor', 'Dad', 'Maddie', 'Connor', 'Maddie', 'Connor', 'Connor', 'Connor', 'Mom', 'Connor', 'Connor', 'Mom', 'Dad', 'Dad', 'Connor', 'Dad', 'Mom', 'Dad', 'Connor', 'Mom', 'Connor', 'Connor', 'Connor', 'Maddie', 'Connor', 'Maddie', 'Connor', 'Connor', 'Connor', 'Dad', 'Connor', 'Maddie', 'Connor', 'Connor', 'Mom', 'Mom', 'Maddie', 'Mom', 'Connor', 'Dad', 'Mom', 'Dad', 'Mom', 'Dad', 'Maddie', 'Dad', 'Maddie', 'Dad', 'Mom', 'Mom', 'Dad', 'Mom', 'Dad', 'Connor', 'Maddie', 'Mom', 'Connor', 'Dad', 'Connor', 'Maddie', 'Mom', 'Connor', 'Connor', 'Connor', 'Connor', 'Connor', 'Connor', 'Connor', 'Connor', 'Maddie', 'Dad', 'Connor', 'Mom', 'Mom', 'Connor', 'Connor', 'Dad', 'Dad', 'Maddie', 'Dad', 'Connor', 'Dad', 'Dad', 'Maddie', 'Connor', 'Connor', 'Mom', 'Connor', 'Connor', 'Mom', 'Connor', 'Connor', 'Connor', 'Connor', 'Connor', 'Connor', 'Mom', 'Dad', 'Connor', 'Connor', 'Mom', 'Connor', 'Maddie', 'Connor', 'Connor', 'Connor', 'Mom', 'Maddie', 'Mom', 'Maddie', 'Mom', 'Mom', 'Connor', 'Dad', 'Connor', 'Mom', 'Mom', 'Mom', 'Dad', 'Mom', 'Mom', 'Connor', 'Connor', 'Maddie', 'Connor'] [0 2 1 ... 0 2 0]\n"
     ]
    }
   ],
   "source": [
    "orig_labels = labels\n",
    "le = LabelEncoder()\n",
    "labels = le.fit_transform(labels)\n",
    "num_labels=labels\n",
    "print(orig_labels, labels)"
   ]
  },
  {
   "cell_type": "code",
   "execution_count": 26,
   "metadata": {},
   "outputs": [
    {
     "name": "stdout",
     "output_type": "stream",
     "text": [
      "[[1 0 0 0]\n",
      " [0 0 1 0]\n",
      " [0 1 0 0]\n",
      " [0 1 0 0]\n",
      " [0 0 1 0]]\n"
     ]
    }
   ],
   "source": [
    "data = np.array(data) / 255.0\n",
    "labels = np.uint8(np_utils.to_categorical(labels, 4))\n",
    "print(labels[:5])"
   ]
  },
  {
   "cell_type": "code",
   "execution_count": 27,
   "metadata": {},
   "outputs": [
    {
     "data": {
      "text/plain": [
       "(1990, 63)"
      ]
     },
     "execution_count": 27,
     "metadata": {},
     "output_type": "execute_result"
    }
   ],
   "source": [
    "data.shape"
   ]
  },
  {
   "cell_type": "code",
   "execution_count": 28,
   "metadata": {},
   "outputs": [],
   "source": [
    "np.save(\"./PP_Data/data.npy\", data)\n",
    "np.save(\"./PP_Data/labels.npy\", labels)"
   ]
  },
  {
   "cell_type": "raw",
   "metadata": {},
   "source": [
    "import plotly.graph_objects  as go\n",
    "new_cord_1_2,_, _ = reduce_dim(image_mat,images_mean_subtracted,1,2)\n",
    "new_cord_2_1,_, _ = reduce_dim(image_mat,images_mean_subtracted,2,1)"
   ]
  },
  {
   "cell_type": "raw",
   "metadata": {},
   "source": [
    "unique, counts = np.unique(num_labels,return_counts=True)\n",
    "connor = new_cord_1_2[np.where(num_labels==0)][:,:,0].T\n",
    "dad = new_cord_1_2[np.where(num_labels==1)][:,:,0].T\n",
    "mom = new_cord_1_2[np.where(num_labels==3)][:,:,0].T\n",
    "maddie = new_cord_1_2[np.where(num_labels==2)][:,:,0].T"
   ]
  },
  {
   "cell_type": "raw",
   "metadata": {},
   "source": [
    "fig = go.Figure([go.Scatter(x=connor[0,:],y=connor[1,:],mode='markers',name=\"Connor\")])\n",
    "fig.add_trace(go.Scatter(x=dad[0,:],y=dad[1,:],mode='markers',name=\"Dad\"))\n",
    "fig.add_trace(go.Scatter(x=mom[0,:],y=mom[1,:],mode='markers',name=\"Mom\"))\n",
    "fig.add_trace(go.Scatter(x=maddie[0,:],y=maddie[1,:],mode='markers',name=\"Maddie\"))\n",
    "fig.update_layout()"
   ]
  },
  {
   "cell_type": "code",
   "execution_count": null,
   "metadata": {},
   "outputs": [],
   "source": []
  }
 ],
 "metadata": {
  "kernelspec": {
   "display_name": "CPE646",
   "language": "python",
   "name": "cpe646"
  },
  "language_info": {
   "codemirror_mode": {
    "name": "ipython",
    "version": 3
   },
   "file_extension": ".py",
   "mimetype": "text/x-python",
   "name": "python",
   "nbconvert_exporter": "python",
   "pygments_lexer": "ipython3",
   "version": "3.7.7"
  }
 },
 "nbformat": 4,
 "nbformat_minor": 4
}
