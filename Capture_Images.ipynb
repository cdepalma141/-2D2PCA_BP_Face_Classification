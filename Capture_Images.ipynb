{
 "cells": [
  {
   "cell_type": "markdown",
   "metadata": {},
   "source": [
    "# Capture_Images Notebook "
   ]
  },
  {
   "cell_type": "code",
   "execution_count": 1,
   "metadata": {},
   "outputs": [],
   "source": [
    "# This Notebook is used to capture and edit original face images\n",
    "\n",
    "import numpy as np\n",
    "import cv2 # OpenCV\n",
    "from imutils import paths # Collection of OpenCV convience functions from Adrian at https://www.pyimagesearch.com\n",
    "\n",
    "from ImageCapture.Crop import image_cropper\n",
    "import ImageCapture.Capture as cap"
   ]
  },
  {
   "cell_type": "code",
   "execution_count": 2,
   "metadata": {},
   "outputs": [
    {
     "name": "stdout",
     "output_type": "stream",
     "text": [
      "previous pictures:  33\n",
      "Success: Grabbed the camera\n",
      "Quitting...\n"
     ]
    }
   ],
   "source": [
    "# The following function is used for capturing original images \n",
    "# of faces to be classified.\n",
    "\n",
    "# A name and mode need to be selected, more information on the different\n",
    "# modes are in the source code for the function and the project report\n",
    "# Press c to capture image if mode is manual, otherwise images are captured every 3 seconds\n",
    "# Press q to quit\n",
    "cap.capture_faces(\"Connor\", manual=True)"
   ]
  },
  {
   "cell_type": "code",
   "execution_count": 3,
   "metadata": {},
   "outputs": [
    {
     "name": "stdout",
     "output_type": "stream",
     "text": [
      "Ending...\n"
     ]
    }
   ],
   "source": [
    "# Here is an example of how to utilize the image cropping class based off of\n",
    "# https://www.life2coding.com/crop-image-using-mouse-click-movement-python/\n",
    "\n",
    "# click and drag the mouse over the pop-up window to crop images\n",
    "# press \"n\" to go to the next image \"s\" to save an cropped image and \"d\" to delete the image\n",
    "# pressing \"q\" will close the window and stop the loop\n",
    "\n",
    "# First get list of all image paths\n",
    "imagePaths = np.sort(list(paths.list_images(\"./Dataset/Train/\")))\n",
    "\n",
    "# Iterate through all imagepaths and only edit images from a specified class\n",
    "for imagePath in imagePaths:\n",
    "    if \"Connor\" in imagePath:\n",
    "        cond = image_cropper(imagePath).capture() \n",
    "        # Need to capture return condition in order to properly close window\n",
    "        if cond:\n",
    "            print(\"Ending...\")\n",
    "            cv2.destroyAllWindows()\n",
    "            cv2.waitKey(1)\n",
    "            break"
   ]
  }
 ],
 "metadata": {
  "kernelspec": {
   "display_name": "testenv",
   "language": "python",
   "name": "testenv"
  },
  "language_info": {
   "codemirror_mode": {
    "name": "ipython",
    "version": 3
   },
   "file_extension": ".py",
   "mimetype": "text/x-python",
   "name": "python",
   "nbconvert_exporter": "python",
   "pygments_lexer": "ipython3",
   "version": "3.7.7"
  }
 },
 "nbformat": 4,
 "nbformat_minor": 4
}
